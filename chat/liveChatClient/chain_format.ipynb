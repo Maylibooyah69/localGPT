{
 "cells": [
  {
   "cell_type": "code",
   "execution_count": 46,
   "metadata": {},
   "outputs": [],
   "source": [
    "from langchain.schema import SystemMessage\n",
    "from langchain.prompts.chat import (\n",
    "    ChatPromptTemplate,\n",
    "    HumanMessagePromptTemplate,\n",
    "    MessagesPlaceholder,\n",
    ")\n",
    "from operator import itemgetter\n",
    "from langchain.memory.chat_message_histories.in_memory import ChatMessageHistory\n",
    "from langchain_community.llms import GPT4All\n",
    "from langchain.schema import messages_from_dict, messages_to_dict\n",
    "from langchain_experimental.chat_models import Llama2Chat\n",
    "from langchain.memory import ConversationBufferMemory\n",
    "from langchain_core.prompts import ChatPromptTemplate\n",
    "from langchain.callbacks.streaming_stdout import StreamingStdOutCallbackHandler\n",
    "from langchain_core.runnables import RunnableLambda, RunnablePassthrough\n",
    "import json\n",
    "from langchain.schema import messages_from_dict, messages_to_dict\n",
    "\n",
    "\n",
    "\n",
    "# model = GPT4All(\"./chatModels/mistral-7b-instruct-v0.1.Q4_0.gguf\")\n",
    "callbacks = [StreamingStdOutCallbackHandler()]\n",
    "model = GPT4All(model=\"../chatModels/mistral-7b-instruct-v0.1.Q4_0.gguf\",\n",
    "                callbacks=callbacks, verbose=True)\n",
    "\n",
    "rompt_template = ChatPromptTemplate.from_messages(template_messages)\n",
    "\n",
    "prompt = ChatPromptTemplate.from_messages(\n",
    "    [\n",
    "        (\"system\", \"You are a helpful chatbot\"),\n",
    "        MessagesPlaceholder(variable_name=\"history\"),\n",
    "        (\"human\", \"{input}\"),\n",
    "    ]\n",
    ")\n",
    "chat = Llama2Chat(llm=model)\n",
    "memory = ConversationBufferMemory(return_messages=True)\n",
    "\n"
   ]
  },
  {
   "cell_type": "code",
   "execution_count": 47,
   "metadata": {},
   "outputs": [
    {
     "data": {
      "text/plain": [
       "ChatPromptTemplate(input_variables=['history', 'input'], input_types={'history': typing.List[typing.Union[langchain_core.messages.ai.AIMessage, langchain_core.messages.human.HumanMessage, langchain_core.messages.chat.ChatMessage, langchain_core.messages.system.SystemMessage, langchain_core.messages.function.FunctionMessage, langchain_core.messages.tool.ToolMessage]]}, messages=[SystemMessagePromptTemplate(prompt=PromptTemplate(input_variables=[], template='You are a helpful chatbot')), MessagesPlaceholder(variable_name='history'), HumanMessagePromptTemplate(prompt=PromptTemplate(input_variables=['input'], template='{input}'))])"
      ]
     },
     "execution_count": 47,
     "metadata": {},
     "output_type": "execute_result"
    }
   ],
   "source": [
    "prompt"
   ]
  },
  {
   "cell_type": "code",
   "execution_count": 19,
   "metadata": {},
   "outputs": [],
   "source": []
  },
  {
   "cell_type": "code",
   "execution_count": 48,
   "metadata": {},
   "outputs": [],
   "source": [
    "chain = (\n",
    "    RunnablePassthrough.assign(\n",
    "        history=RunnableLambda(memory.load_memory_variables) | itemgetter(\"history\")\n",
    "    )\n",
    "    | prompt\n",
    "    | chat\n",
    ")"
   ]
  },
  {
   "cell_type": "code",
   "execution_count": 56,
   "metadata": {},
   "outputs": [
    {
     "name": "stdout",
     "output_type": "stream",
     "text": [
      "content=' Hello Bob! How can I assist you today?'\n"
     ]
    }
   ],
   "source": [
    "inputs={\"input\": \"Hi I'm bob\"}\n",
    "response=chain.invoke(inputs)\n",
    "print(response)\n",
    "memory.save_context(inputs, {\"output\": response.content})"
   ]
  },
  {
   "cell_type": "code",
   "execution_count": 87,
   "metadata": {},
   "outputs": [
    {
     "name": "stdout",
     "output_type": "stream",
     "text": [
      "content=' Yes, your name is Bob. Is there anything else I can help you with?'\n"
     ]
    }
   ],
   "source": [
    "inputs={\"input\": \"Do you know what's my name\"}\n",
    "response=chain.invoke(inputs)\n",
    "print(response)\n",
    "memory.save_context(inputs, {\"output\": response.content})"
   ]
  },
  {
   "cell_type": "code",
   "execution_count": 88,
   "metadata": {},
   "outputs": [
    {
     "name": "stdout",
     "output_type": "stream",
     "text": [
      "content=\" Sure! Here's one for you:\\n\\nWhy did the computer go to therapy? Because it had too many Bob files!\"\n"
     ]
    }
   ],
   "source": [
    "inputs={\"input\": \"tell me a joke about my name\"}\n",
    "response=chain.invoke(inputs)\n",
    "print(response)\n",
    "memory.save_context(inputs, {\"output\": response.content})"
   ]
  },
  {
   "cell_type": "code",
   "execution_count": 93,
   "metadata": {},
   "outputs": [
    {
     "data": {
      "text/plain": [
       "'ai'"
      ]
     },
     "execution_count": 93,
     "metadata": {},
     "output_type": "execute_result"
    }
   ],
   "source": [
    "memory.chat_memory.messages[-1].type"
   ]
  },
  {
   "cell_type": "code",
   "execution_count": 67,
   "metadata": {},
   "outputs": [
    {
     "data": {
      "text/plain": [
       "[HumanMessage(content=\"Hi I'm bob\"),\n",
       " AIMessage(content=' Hello Bob! How can I assist you today?'),\n",
       " HumanMessage(content=\"Hi I'm bob\"),\n",
       " AIMessage(content=' Hello Bob! How can I assist you today?')]"
      ]
     },
     "execution_count": 67,
     "metadata": {},
     "output_type": "execute_result"
    }
   ],
   "source": [
    "memory.chat_memory.messages"
   ]
  },
  {
   "cell_type": "code",
   "execution_count": 83,
   "metadata": {},
   "outputs": [],
   "source": [
    "def memory_to_json(memory,save=False):\n",
    "    mes_dict=messages_to_dict(memory.chat_memory.messages)\n",
    "    total_dict={'messages':mes_dict}\n",
    "    mes_json=json.dumps(total_dict)\n",
    "    if save:\n",
    "        with open('memory.json', 'w') as fp:\n",
    "            json.dump(total_dict, fp)\n",
    "    return mes_json\n",
    "def json_to_memory(mes_json):\n",
    "    mes_dict=json.loads(mes_json)\n",
    "    mes=messages_from_dict(mes_dict['messages'])\n",
    "    mem=ConversationBufferMemory(chat_memory=ChatMessageHistory(messages=mes),return_messages=True)\n",
    "    return mem"
   ]
  },
  {
   "cell_type": "code",
   "execution_count": 78,
   "metadata": {},
   "outputs": [
    {
     "data": {
      "text/plain": [
       "'{\"messages\": [{\"type\": \"human\", \"data\": {\"content\": \"Hi I\\'m bob\", \"additional_kwargs\": {}, \"type\": \"human\", \"example\": false}}, {\"type\": \"ai\", \"data\": {\"content\": \" Hello Bob! How can I assist you today?\", \"additional_kwargs\": {}, \"type\": \"ai\", \"example\": false}}, {\"type\": \"human\", \"data\": {\"content\": \"Hi I\\'m bob\", \"additional_kwargs\": {}, \"type\": \"human\", \"example\": false}}, {\"type\": \"ai\", \"data\": {\"content\": \" Hello Bob! How can I assist you today?\", \"additional_kwargs\": {}, \"type\": \"ai\", \"example\": false}}]}'"
      ]
     },
     "execution_count": 78,
     "metadata": {},
     "output_type": "execute_result"
    }
   ],
   "source": [
    "memory_json=memory_to_json(memory)\n",
    "memory_json"
   ]
  },
  {
   "cell_type": "code",
   "execution_count": 80,
   "metadata": {},
   "outputs": [],
   "source": [
    "new_mem=json_to_memory(memory_json)"
   ]
  },
  {
   "cell_type": "code",
   "execution_count": 81,
   "metadata": {},
   "outputs": [],
   "source": [
    "new_chain = (\n",
    "    RunnablePassthrough.assign(\n",
    "        history=RunnableLambda(new_mem.load_memory_variables) | itemgetter(\"history\")\n",
    "    )\n",
    "    | prompt\n",
    "    | chat\n",
    ")"
   ]
  },
  {
   "cell_type": "code",
   "execution_count": 82,
   "metadata": {},
   "outputs": [
    {
     "data": {
      "text/plain": [
       "AIMessage(content=' Yes, your name is Bob. Is there anything else I can help you with?')"
      ]
     },
     "execution_count": 82,
     "metadata": {},
     "output_type": "execute_result"
    }
   ],
   "source": [
    "chain.invoke({\"input\": \"Do you know what's my name\"})"
   ]
  },
  {
   "cell_type": "code",
   "execution_count": 84,
   "metadata": {},
   "outputs": [
    {
     "data": {
      "text/plain": [
       "'{\"messages\": [{\"type\": \"human\", \"data\": {\"content\": \"Hi I\\'m bob\", \"additional_kwargs\": {}, \"type\": \"human\", \"example\": false}}, {\"type\": \"ai\", \"data\": {\"content\": \" Hello Bob! How can I assist you today?\", \"additional_kwargs\": {}, \"type\": \"ai\", \"example\": false}}, {\"type\": \"human\", \"data\": {\"content\": \"Hi I\\'m bob\", \"additional_kwargs\": {}, \"type\": \"human\", \"example\": false}}, {\"type\": \"ai\", \"data\": {\"content\": \" Hello Bob! How can I assist you today?\", \"additional_kwargs\": {}, \"type\": \"ai\", \"example\": false}}]}'"
      ]
     },
     "execution_count": 84,
     "metadata": {},
     "output_type": "execute_result"
    }
   ],
   "source": [
    "memory_to_json(new_mem,save=True)"
   ]
  }
 ],
 "metadata": {
  "kernelspec": {
   "display_name": "localGPT",
   "language": "python",
   "name": "python3"
  },
  "language_info": {
   "codemirror_mode": {
    "name": "ipython",
    "version": 3
   },
   "file_extension": ".py",
   "mimetype": "text/x-python",
   "name": "python",
   "nbconvert_exporter": "python",
   "pygments_lexer": "ipython3",
   "version": "3.11.3"
  }
 },
 "nbformat": 4,
 "nbformat_minor": 2
}
